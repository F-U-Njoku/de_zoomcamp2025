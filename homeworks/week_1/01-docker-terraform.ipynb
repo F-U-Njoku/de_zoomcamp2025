{
 "cells": [
  {
   "cell_type": "markdown",
   "id": "2a1ea27c",
   "metadata": {},
   "source": [
    "### Understanding docker first run"
   ]
  },
  {
   "cell_type": "markdown",
   "id": "3c88c202",
   "metadata": {},
   "source": [
    "- docker run -t homework:1 .\n",
    "- docker run -it homework:1\n",
    "- pip 24.3.1 from /usr/local/lib/python3.12/site-packages/pip (python 3.12)"
   ]
  },
  {
   "cell_type": "markdown",
   "id": "7b5a0075",
   "metadata": {},
   "source": [
    "### Understanding Docker networking and docker-compose"
   ]
  },
  {
   "cell_type": "markdown",
   "id": "36e4cfec",
   "metadata": {},
   "source": [
    "- Host: postgres (the container name)\n",
    "- Port: 5432\n",
    "- Database: ny_taxi"
   ]
  },
  {
   "cell_type": "markdown",
   "id": "c5782056",
   "metadata": {},
   "source": [
    "docker run -it  \n",
    "--network=de_zoomcamp2025_default  \n",
    "data_ingest:taxi     \n",
    "--user=postgres     \n",
    "--password=postgres     \n",
    "--host=postgres     \n",
    "--port=5432     \n",
    "--db=ny_taxi     \n",
    "--table_name=green_taxi_trips     \n",
    "--url=\"$URL\"\n",
    "\n",
    "docker run -it  \n",
    "--network=de_zoomcamp2025_default  \n",
    "data_ingest:taxi     \n",
    "--user=postgres     \n",
    "--password=postgres     \n",
    "--host=postgres     \n",
    "--port=5432     \n",
    "--db=ny_taxi     \n",
    "--table_name=taxi_zone_lookup     \n",
    "--url=\"wget https://github.com/DataTalksClub/nyc-tlc-data/releases/download/misc/taxi_zone_lookup.csv\""
   ]
  },
  {
   "cell_type": "markdown",
   "id": "cb4d40f5",
   "metadata": {},
   "source": [
    "### Trip Segmentation Count"
   ]
  },
  {
   "cell_type": "markdown",
   "id": "ff21ec34",
   "metadata": {},
   "source": [
    "```\n",
    "--Up to 1 mile\n",
    "SELECT COUNT(*)\n",
    "FROM green_taxi_trips AS gt\n",
    "WHERE gt.lpep_dropoff_datetime >= '2019-10-01'\n",
    "  AND gt.lpep_dropoff_datetime < '2019-11-01'\n",
    "  AND gt.trip_distance <= 1;\n",
    "\n",
    "\n",
    "--In between 1 (exclusive) and 3 miles (inclusive)\n",
    "SELECT COUNT(*)\n",
    "FROM green_taxi_trips AS gt\n",
    "WHERE gt.lpep_dropoff_datetime >= '2019-10-01'\n",
    "  AND gt.lpep_dropoff_datetime < '2019-11-01'\n",
    "  AND gt.trip_distance > 1\n",
    "  AND gt.trip_distance <= 3;\n",
    "  \n",
    "--In between 3 (exclusive) and 7 miles (inclusive),\n",
    "SELECT COUNT(*)\n",
    "FROM green_taxi_trips AS gt\n",
    "WHERE gt.lpep_dropoff_datetime >= '2019-10-01'\n",
    "  AND gt.lpep_dropoff_datetime < '2019-11-01'\n",
    "  AND gt.trip_distance > 3\n",
    "  AND gt.trip_distance <= 7;\n",
    "  \n",
    "--In between 7 (exclusive) and 10 miles (inclusive),\n",
    "SELECT COUNT(*)\n",
    "FROM green_taxi_trips AS gt\n",
    "WHERE gt.lpep_dropoff_datetime >= '2019-10-01'\n",
    "  AND gt.lpep_dropoff_datetime < '2019-11-01'\n",
    "  AND gt.trip_distance > 7\n",
    "  AND gt.trip_distance <= 10;\n",
    "\n",
    "\n",
    "--Over 10 miles\n",
    "SELECT COUNT(*)\n",
    "FROM green_taxi_trips AS gt\n",
    "WHERE gt.lpep_dropoff_datetime >= '2019-10-01'\n",
    "  AND gt.lpep_dropoff_datetime < '2019-11-01'\n",
    "  AND gt.trip_distance > 10;\n",
    "```"
   ]
  },
  {
   "cell_type": "markdown",
   "id": "f63fbca9",
   "metadata": {},
   "source": [
    "### Longest trip for each day"
   ]
  },
  {
   "cell_type": "markdown",
   "id": "5fbaa79d",
   "metadata": {},
   "source": [
    "```\n",
    "SELECT gt.lpep_pickup_datetime\n",
    "FROM green_taxi_trips AS gt\n",
    "WHERE gt.trip_distance = (\n",
    "    SELECT MAX(trip_distance) \n",
    "    FROM green_taxi_trips\n",
    ");\n",
    "```\n",
    "- 2019-10-31 23:23:41"
   ]
  },
  {
   "cell_type": "markdown",
   "id": "fc8bf43f",
   "metadata": {},
   "source": [
    "### Three biggest pickup zones"
   ]
  },
  {
   "cell_type": "markdown",
   "id": "fae36672",
   "metadata": {},
   "source": [
    "```\n",
    "SELECT tz.\"Zone\", \n",
    "       SUM(gt.total_amount) AS total\n",
    "FROM green_taxi_trips AS gt\n",
    "LEFT JOIN taxi_zone_lookup AS tz\n",
    "    ON gt.\"PULocationID\" = tz.\"LocationID\"\n",
    "WHERE DATE(gt.lpep_pickup_datetime) = '2019-10-18'\n",
    "GROUP BY tz.\"Zone\"\n",
    "HAVING SUM(gt.total_amount) > 13000\n",
    "ORDER BY total DESC;\n",
    "```"
   ]
  },
  {
   "cell_type": "markdown",
   "id": "9a5c03c6",
   "metadata": {},
   "source": [
    "### Largest tip"
   ]
  },
  {
   "cell_type": "markdown",
   "id": "d25fbab8",
   "metadata": {},
   "source": [
    "```\n",
    "SELECT tzd.\"Zone\" as dropoff_loc,\n",
    "       MAX(gt.tip_amount) as max_tip\n",
    "FROM green_taxi_trips AS gt\n",
    "LEFT JOIN taxi_zone_lookup tzp \n",
    "    ON gt.\"PULocationID\" = tzp.\"LocationID\"\n",
    "JOIN taxi_zone_lookup tzd \n",
    "    ON gt.\"DOLocationID\" = tzd.\"LocationID\"\n",
    "WHERE DATE(gt.lpep_pickup_datetime) = '2019-10-19'\n",
    "  AND tzp.\"Zone\" = 'East Harlem North'\n",
    "GROUP BY tzd.\"Zone\"\n",
    "ORDER BY max_tip DESC\n",
    "LIMIT 5;\n",
    "```"
   ]
  },
  {
   "cell_type": "markdown",
   "id": "69f20da0",
   "metadata": {},
   "source": [
    "### Terraform Workflow"
   ]
  },
  {
   "cell_type": "code",
   "execution_count": null,
   "id": "0a6f4266",
   "metadata": {},
   "outputs": [],
   "source": []
  }
 ],
 "metadata": {
  "kernelspec": {
   "display_name": "Python 3 (ipykernel)",
   "language": "python",
   "name": "python3"
  },
  "language_info": {
   "codemirror_mode": {
    "name": "ipython",
    "version": 3
   },
   "file_extension": ".py",
   "mimetype": "text/x-python",
   "name": "python",
   "nbconvert_exporter": "python",
   "pygments_lexer": "ipython3",
   "version": "3.11.5"
  },
  "toc": {
   "base_numbering": 1,
   "nav_menu": {},
   "number_sections": true,
   "sideBar": true,
   "skip_h1_title": false,
   "title_cell": "Table of Contents",
   "title_sidebar": "Contents",
   "toc_cell": false,
   "toc_position": {},
   "toc_section_display": true,
   "toc_window_display": false
  }
 },
 "nbformat": 4,
 "nbformat_minor": 5
}
